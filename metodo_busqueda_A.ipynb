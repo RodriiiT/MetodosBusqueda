{
 "cells": [
  {
   "cell_type": "markdown",
   "metadata": {},
   "source": [
    "# Métodos de Búsqueda: Algoritmo A*\n",
    "\n",
    "En este ejercicio, se aplicará el algoritmo de búsqueda A* para recorrer un grafo y encontrar la solución al problema planteado. Se explorarán las listas ABIERTOS (mostrando el valor F' de cada nodo) y CERRADOS en cada iteración. Los nodos solución son **L** y **J**, y cuanto menor es el valor heurístico, más deseable es el nodo.\n",
    "\n",
    "### Consideraciones:\n",
    "1. Existe un costo de transición de valor 1 entre nodos conectados.\n",
    "2. Se utilizará la representación gráfica del grafo para facilitar el análisis.\n",
    "\n",
    "El grafo que se utiliza para este ejercicio se representa de la siguiente manera:\n",
    "\n",
    "![Grafo del problema](imagenes/grafo.png)"
   ]
  },
  {
   "cell_type": "markdown",
   "metadata": {},
   "source": [
    "## Representación del Grafo\n",
    "\n",
    "El grafo se representará mediante una estructura de datos tipo diccionario en Python, donde las claves son los nodos y los valores son sus vecinos con los costos asociados."
   ]
  },
  {
   "cell_type": "code",
   "execution_count": 1,
   "metadata": {},
   "outputs": [],
   "source": [
    "#Representación del grafo\n",
    "grafo = {\n",
    "    'A': {'B': 1, 'C': 1},\n",
    "    'B': {'D': 1, 'E': 1},\n",
    "    'C': {'F': 1, 'G': 1, 'H' : 1},\n",
    "    'D': {},\n",
    "    'E': {'I': 1, 'J': 1},\n",
    "    'F': {},\n",
    "    'G': {'J': 1},\n",
    "    'H': {'K': 1},\n",
    "    'I': {'L': 1},\n",
    "    'J': {},\n",
    "    'K': {'L': 1},\n",
    "    'L': {}\n",
    "}"
   ]
  },
  {
   "cell_type": "markdown",
   "metadata": {},
   "source": [
    "## Valores Heurísticos\n",
    "\n",
    "Los valores heurísticos se asignan a cada nodo. Estos valores representan la estimación del costo restante para llegar al nodo objetivo. A continuación, se muestran los valores heurísticos utilizados:"
   ]
  },
  {
   "cell_type": "code",
   "execution_count": 2,
   "metadata": {},
   "outputs": [],
   "source": [
    "#Valores heurísticos\n",
    "heuristica = {\n",
    "    'A': 12, 'B': 7, 'C': 6, 'D': 3, 'E': 4,\n",
    "    'F': 9, 'G': 10, 'H': 8, 'I': 1, 'J': 0,\n",
    "    'K': 2, 'L': 0\n",
    "}"
   ]
  },
  {
   "cell_type": "markdown",
   "metadata": {},
   "source": [
    "## Implementación del Algoritmo A*\n",
    "\n",
    "El siguiente código implementa el algoritmo A*, incluyendo la impresión de las listas ABIERTOS y CERRADOS en cada iteración, y mostrando el camino encontrado."
   ]
  },
  {
   "cell_type": "code",
   "execution_count": 3,
   "metadata": {},
   "outputs": [
    {
     "name": "stdout",
     "output_type": "stream",
     "text": [
      "Nodo explorado: A, F = 12\n",
      "  Nodo agregado a abiertos: B, F = 8\n",
      "  Nodo agregado a abiertos: C, F = 7\n",
      "\n",
      "Nodo explorado: C, F = 7\n",
      "  Nodo agregado a abiertos: F, F = 11\n",
      "  Nodo agregado a abiertos: G, F = 12\n",
      "  Nodo agregado a abiertos: H, F = 10\n",
      "\n",
      "Nodo explorado: B, F = 8\n",
      "  Nodo agregado a abiertos: D, F = 5\n",
      "  Nodo agregado a abiertos: E, F = 6\n",
      "\n",
      "Nodo explorado: D, F = 5\n",
      "\n",
      "Nodo explorado: E, F = 6\n",
      "  Nodo agregado a abiertos: I, F = 4\n",
      "  Nodo agregado a abiertos: J, F = 3\n",
      "\n",
      "¡Nodo objetivo alcanzado: J!\n",
      "Camino:  A -> B -> E -> J\n",
      "Costo total:  3\n"
     ]
    }
   ],
   "source": [
    "import heapq\n",
    "\n",
    "def a_estrella(inicio, objetivos):\n",
    "    abiertos = []  # Lista de prioridad\n",
    "    heapq.heappush(abiertos, (heuristica[inicio], inicio))  # (F(n), nodo)\n",
    "    cerrados = set()  \n",
    "    costos = {inicio: 0}  # g(n)\n",
    "    padres = {inicio: None}  # Para rastrear el camino\n",
    "\n",
    "    while abiertos:\n",
    "        f_actual, nodo_actual = heapq.heappop(abiertos)\n",
    "        \n",
    "        if nodo_actual in objetivos:\n",
    "            print(f\"¡Nodo objetivo alcanzado: {nodo_actual}!\")\n",
    "            camino = []\n",
    "            while nodo_actual is not None:\n",
    "                camino.append(nodo_actual)\n",
    "                nodo_actual = padres[nodo_actual]\n",
    "            print(\"Camino: \", ' -> '.join(camino[::-1]))\n",
    "            print(\"Costo total: \", costos[camino[0]])\n",
    "            return\n",
    "\n",
    "        cerrados.add(nodo_actual)\n",
    "        print(f\"Nodo explorado: {nodo_actual}, F = {f_actual}\")\n",
    "        \n",
    "        for vecino, costo_transicion in grafo[nodo_actual].items():\n",
    "            if vecino in cerrados:\n",
    "                continue\n",
    "            \n",
    "            g_nuevo = costos[nodo_actual] + costo_transicion\n",
    "            f_nuevo = g_nuevo + heuristica[vecino]\n",
    "            \n",
    "            if vecino not in costos or g_nuevo < costos[vecino]:\n",
    "                costos[vecino] = g_nuevo\n",
    "                padres[vecino] = nodo_actual\n",
    "                heapq.heappush(abiertos, (f_nuevo, vecino))\n",
    "                print(f\"  Nodo agregado a abiertos: {vecino}, F = {f_nuevo}\")\n",
    "        print(\"\")\n",
    "\n",
    "# Ejecutar\n",
    "a_estrella('A', {'L', 'J'})"
   ]
  },
  {
   "cell_type": "markdown",
   "metadata": {},
   "source": [
    "## Representación Gráfica\n",
    "\n",
    "Se utilizará la biblioteca `networkx` para dibujar el grafo y visualizar las conexiones entre los nodos."
   ]
  },
  {
   "cell_type": "code",
   "execution_count": 12,
   "metadata": {},
   "outputs": [
    {
     "data": {
      "image/png": "[encoded data removed]",
      "text/plain": [
       "<Figure size 1000x600 with 1 Axes>"
      ]
     },
     "metadata": {},
     "output_type": "display_data"
    }
   ],
   "source": [
    "import networkx as nx\n",
    "import matplotlib.pyplot as plt\n",
    "\n",
    "#Crear grafo dirigido\n",
    "G = nx.DiGraph()\n",
    "\n",
    "#Agregar nodos y aristas con pesos\n",
    "aristas = [\n",
    "    ('A', 'B', 7), ('A', 'C', 12),\n",
    "    ('B', 'D', 3), ('B', 'E', 4),\n",
    "    ('C', 'F', 9), ('C', 'G', 10), ('C', 'H', 8),\n",
    "    ('E', 'I', 1), ('E', 'J', 0),\n",
    "    ('G', 'J', 0), ('H', 'K', 2),\n",
    "    ('I', 'L', 0), ('K', 'L', 0)\n",
    "]\n",
    "\n",
    "for origen, destino, peso in aristas:\n",
    "    G.add_edge(origen, destino, weight=peso)\n",
    "\n",
    "#Posiciones personalizadas\n",
    "pos = {\n",
    "    'A': (0, 5),\n",
    "    'B': (-2, 4), 'C': (2, 4),\n",
    "    'D': (-3, 3), 'E': (-1, 3), 'F': (1, 3), 'G': (3, 3), 'H': (5, 3),\n",
    "    'I': (-2, 2), 'J': (0, 2), 'K': (4, 2),\n",
    "    'L': (1, 1)\n",
    "}\n",
    "\n",
    "#Definir el camino óptimo\n",
    "camino_optimo = [('A', 'B'), ('B', 'E'), ('E', 'J')]\n",
    "\n",
    "#Filtrar las etiquetas del grafo eliminando las del camino óptimo\n",
    "labels = {\n",
    "    (u, v): d['weight']\n",
    "    for u, v, d in G.edges(data=True)\n",
    "    if (u, v) not in camino_optimo\n",
    "}\n",
    "\n",
    "# Dibujar el grafo\n",
    "plt.figure(figsize=(10, 6))\n",
    "nx.draw(\n",
    "    G, pos, with_labels=True, node_size=2000, node_color=\"lightblue\", \n",
    "    font_size=10, font_weight=\"bold\", edge_color=\"gray\"\n",
    ")\n",
    "\n",
    "#Dibujar las etiquetas restantes (no en el camino rojo)\n",
    "nx.draw_networkx_edge_labels(G, pos, edge_labels=labels, font_size=8)\n",
    "\n",
    "#Resaltar el camino óptimo en rojo\n",
    "nx.draw_networkx_edges(\n",
    "    G, pos, edgelist=camino_optimo, edge_color=\"red\", width=2.5\n",
    ")\n",
    "\n",
    "#Dibujar etiquetas de peso específicas para el camino óptimo\n",
    "for origen, destino in camino_optimo:\n",
    "    x_origen, y_origen = pos[origen]\n",
    "    x_destino, y_destino = pos[destino]\n",
    "    peso = G[origen][destino]['weight']\n",
    "    x_label = (x_origen + x_destino) / 2\n",
    "    y_label = (y_origen + y_destino) / 2 + 0.2  #Subir la posición de la etiqueta\n",
    "    plt.text(x_label, y_label, str(peso), color=\"red\", fontweight=\"bold\", fontsize=10)\n",
    "\n",
    "#Título\n",
    "plt.title(\"Representación del Grafo con Camino Óptimo en Rojo y Pesos\")\n",
    "plt.show()\n"
   ]
  },
  {
   "cell_type": "markdown",
   "metadata": {},
   "source": [
    "## Aplicaciones del Método de Búsqueda A*\n",
    "\n",
    "El método de búsqueda A* es ampliamente utilizado debido a su capacidad para encontrar rutas óptimas en una amplia variedad de dominios. Algunas de sus aplicaciones más destacadas incluyen:\n",
    "\n",
    "1. **Sistemas de navegación:**\n",
    "   - En aplicaciones como Google Maps, Waze o sistemas GPS, A* se utiliza para calcular rutas óptimas considerando distancias, tráfico y otros factores.\n",
    "\n",
    "2. **Videojuegos:**\n",
    "   - Es comúnmente usado en la inteligencia artificial de NPCs (Non-Player Characters) para calcular caminos eficientes hacia un objetivo, evitando obstáculos en mapas complejos.\n",
    "\n",
    "3. **Robótica:**\n",
    "   - A* se emplea en robots móviles para encontrar rutas óptimas en entornos desconocidos o dinámicos, como fábricas o almacenes automatizados.\n",
    "\n",
    "4. **Planeación y logística:**\n",
    "   - Para optimizar rutas en redes de transporte, distribución de mercancías y planeación de horarios.\n",
    "\n",
    "5. **Resolución de puzzles:**\n",
    "   - Se utiliza en problemas como el cubo de Rubik, el rompecabezas de los 8 (8-puzzle) y otros problemas de búsqueda heurística.\n",
    "\n",
    "6. **Redes de comunicación:**\n",
    "   - A* es aplicado en redes para calcular rutas óptimas de transmisión de datos considerando costos o restricciones específicas.\n",
    "\n",
    "El uso del algoritmo A* es preferido en escenarios donde se necesita un equilibrio entre eficiencia y precisión en la búsqueda de rutas óptimas."
   ]
  }
 ],
 "metadata": {
  "kernelspec": {
   "display_name": "Python 3",
   "language": "python",
   "name": "python3"
  },
  "language_info": {
   "codemirror_mode": {
    "name": "ipython",
    "version": 3
   },
   "file_extension": ".py",
   "mimetype": "text/x-python",
   "name": "python",
   "nbconvert_exporter": "python",
   "pygments_lexer": "ipython3",
   "version": "3.12.1"
  }
 },
 "nbformat": 4,
 "nbformat_minor": 2
}
